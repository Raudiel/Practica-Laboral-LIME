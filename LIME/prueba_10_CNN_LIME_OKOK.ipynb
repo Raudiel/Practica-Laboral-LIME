{
 "cells": [
  {
   "cell_type": "code",
   "execution_count": 24,
   "metadata": {},
   "outputs": [],
   "source": [
    "import os\n",
    "import keras\n",
    "import pandas as pd\n",
    "from keras.models import Sequential\n",
    "from keras.layers import Dense\n",
    "from keras.layers import Dropout\n",
    "from keras.layers import Flatten\n",
    "from keras.layers import Conv1D\n",
    "from keras.layers import MaxPooling1D\n",
    "import numpy as np\n",
    "import matplotlib.pyplot as plt\n",
    "from termcolor import colored\n",
    "from keras.utils import plot_model"
   ]
  },
  {
   "cell_type": "code",
   "execution_count": 2,
   "metadata": {},
   "outputs": [],
   "source": [
    "from keras.models import load_model"
   ]
  },
  {
   "cell_type": "code",
   "execution_count": 3,
   "metadata": {},
   "outputs": [],
   "source": [
    "#Aqui tienes q importar tu version\n",
    "from lime import lime_tridimensional"
   ]
  },
  {
   "cell_type": "code",
   "execution_count": 4,
   "metadata": {},
   "outputs": [],
   "source": [
    "#estos datos son para la red\n",
    "# Initializing var\n",
    "n_features = 8 \n",
    "n_outputs = 14  # solo para LSTM y CNN sino  =1\n",
    "lookback = 14\n",
    "potencia = 3\n",
    "\n",
    "#datos de entrenamientos\n",
    "training_set = np.loadtxt(\n",
    "            r\"C:\\\\Users\\\\raudi\\Desktop\\\\aqui\\\\red neuronal\\\\LIME\\\\Numpy_sets\\\\Numpy_training_setEstructurado_\" + 'PARQ. SOLAR UNIV.  LAS VILLAS' + \".txt\")\n",
    "testing_set = np.loadtxt(\n",
    "            r\"C:\\\\Users\\\\raudi\\Desktop\\\\aqui\\\\red neuronal\\\\LIME\\\\Numpy_sets\\\\Numpy_testing_setEstructurado_\" + 'PARQ. SOLAR UNIV.  LAS VILLAS' + \".txt\")"
   ]
  },
  {
   "cell_type": "code",
   "execution_count": 5,
   "metadata": {},
   "outputs": [],
   "source": [
    "#Esto para la red\n",
    "def create_windows (lookback,pos_potencia):  # lookback ventana hacia atras y posicion del atributor predictor\n",
    "    X_train = []\n",
    "    y_train = []\n",
    "    X_test = []\n",
    "    y_test = []\n",
    "    print(training_set)\n",
    "    n_future = n_outputs # Number of days we want top predict into the future\n",
    "    n_past = lookback     # Number of past days we want to use to predict the future\n",
    "    \n",
    "    #Train\n",
    "    for i in range(n_past, len(training_set) - n_future +1):\n",
    "        X_train.append(training_set[i - n_past:i, :])                         \n",
    "        #y_train.append(training_set[i + n_future - 1:i + n_future,2])         #\"1 salida Column potencia\"\n",
    "        y_train.append(training_set[i:i + n_future,pos_potencia].reshape(-1,1))         # Multiples salidas \n",
    "        \n",
    "\n",
    "    #Test    \n",
    "  \n",
    "    for i in range(n_past, len(testing_set) - n_future +1,n_future):\n",
    "        X_test.append(testing_set[i - n_past:i, :])                                  # modelo multivariado \n",
    "        #y_test.append(testing_set[i + n_future - 1:i + n_future,2])                 # la primera medicion del dia despues \n",
    "        y_test.append(testing_set[i:i + n_future,pos_potencia].reshape(-1,1))        # todas las predcciones del dia despues o 14 horas despues\n",
    "        \n",
    "\n",
    "    X_train, y_train = np.array(X_train), np.array(y_train)\n",
    "    X_test, y_test = np.array(X_test), np.array(y_test)\n",
    "    \n",
    "    print('X_train shape == {}.'.format(X_train.shape))\n",
    "    print('y_train shape == {}.'.format(y_train.shape))\n",
    "\n",
    "    print('X_test shape == {}.'.format(X_test.shape))\n",
    "    print('y_test shape == {}.'.format(y_test.shape))\n",
    "\n",
    "    return X_train, y_train, X_test, y_test    "
   ]
  },
  {
   "cell_type": "code",
   "execution_count": 6,
   "metadata": {},
   "outputs": [
    {
     "name": "stdout",
     "output_type": "stream",
     "text": [
      "[[ 0.00000000e+00  2.07000000e+01  2.01000000e+01 ... -2.22520934e-01\n",
      "  -9.75741567e-01 -2.18925544e-01]\n",
      " [ 0.00000000e+00  2.00000000e+01  1.95000000e+01 ...  2.22520934e-01\n",
      "  -9.76009840e-01 -2.17726418e-01]\n",
      " [ 1.98500000e+02  2.61000000e+01  2.26000000e+01 ...  6.23489802e-01\n",
      "  -9.76276638e-01 -2.16526962e-01]\n",
      " ...\n",
      " [ 2.85800000e+02  2.61000000e+01  2.51000000e+01 ... -6.23489802e-01\n",
      "  -4.20454504e-01  9.07313623e-01]\n",
      " [ 1.78300000e+02  2.88000000e+01  3.38000000e+01 ... -9.00968868e-01\n",
      "  -4.19339307e-01  9.07829579e-01]\n",
      " [ 1.24800000e+02  2.65000000e+01  3.05000000e+01 ... -1.00000000e+00\n",
      "  -4.18223477e-01  9.08344165e-01]]\n",
      "X_train shape == (9571, 14, 8).\n",
      "y_train shape == (9571, 14, 1).\n",
      "X_test shape == (170, 14, 8).\n",
      "y_test shape == (170, 14, 1).\n",
      "X_train: (9571, 14, 8)\n",
      "y_train (9571, 14, 1)\n",
      "X_test (170, 14, 8)\n",
      "y_test(170, 14, 1)\n"
     ]
    }
   ],
   "source": [
    "#Se dividen en X_train, y_train, X_test, y_test\n",
    "X_train, y_train, X_test, y_test = create_windows(lookback, potencia)\n",
    "print(\"X_train: {}\\ny_train {}\\nX_test {}\\ny_test{}\".format(X_train.shape, y_train.shape, X_test.shape, y_test.shape))"
   ]
  },
  {
   "cell_type": "code",
   "execution_count": 7,
   "metadata": {},
   "outputs": [],
   "source": [
    "def CNN_model(lookback = lookback, \n",
    "              conv1_filters = 32, \n",
    "              conv1_kernel_size = 11,\n",
    "              conv2_filters = 32, \n",
    "              conv2_kernel_size = 11,\n",
    "              pool_size = 2,\n",
    "              dropout = 0.5,\n",
    "              dense_units = 100,\n",
    "              activation = 'linear',n_outputs= n_outputs):\n",
    "    model2 = Sequential()\n",
    "    model2.add(Conv1D(filters= conv1_filters, kernel_size=conv1_kernel_size, activation='relu', input_shape=(14,8))) \n",
    "    model2.add(Conv1D(filters= conv2_filters, kernel_size=conv2_kernel_size, activation='relu'))\n",
    "    model2.add(MaxPooling1D(pool_size=pool_size))\n",
    "    model2.add(Dropout(dropout))\n",
    "    model2.add(Flatten())\n",
    "    model2.add(Dense(dense_units, activation=activation))\n",
    "    model2.add(Dense(1))\n",
    "    model2.compile(optimizer='adam', loss='mse')\n",
    "    return model2 "
   ]
  },
  {
   "cell_type": "code",
   "execution_count": 8,
   "metadata": {},
   "outputs": [
    {
     "name": "stderr",
     "output_type": "stream",
     "text": [
      "c:\\Users\\raudi\\anaconda3\\Lib\\site-packages\\keras\\src\\layers\\convolutional\\base_conv.py:99: UserWarning: Do not pass an `input_shape`/`input_dim` argument to a layer. When using Sequential models, prefer using an `Input(shape)` object as the first layer in the model instead.\n",
      "  super().__init__(\n"
     ]
    }
   ],
   "source": [
    "model_CNN = CNN_model(\n",
    "    lookback=lookback, \n",
    "    conv1_filters=8, \n",
    "    conv1_kernel_size=2, \n",
    "    conv2_filters=4, \n",
    "    conv2_kernel_size=2, \n",
    "    pool_size=2, \n",
    "    dropout=0.50,\n",
    "    dense_units=100,\n",
    "    activation='sigmoid')\n",
    "#Leyendo los pesos\n",
    "model_CNN.load_weights('C:\\\\Users\\\\raudi\\\\Desktop\\\\Practia Laboral Investigativa 3ro CC\\\\red neuronal\\\\LIME\\\\CNN_model_UCLV.h5')"
   ]
  },
  {
   "cell_type": "code",
   "execution_count": 9,
   "metadata": {},
   "outputs": [
    {
     "data": {
      "text/html": [
       "<pre style=\"white-space:pre;overflow-x:auto;line-height:normal;font-family:Menlo,'DejaVu Sans Mono',consolas,'Courier New',monospace\"><span style=\"font-weight: bold\">Model: \"sequential\"</span>\n",
       "</pre>\n"
      ],
      "text/plain": [
       "\u001b[1mModel: \"sequential\"\u001b[0m\n"
      ]
     },
     "metadata": {},
     "output_type": "display_data"
    },
    {
     "data": {
      "text/html": [
       "<pre style=\"white-space:pre;overflow-x:auto;line-height:normal;font-family:Menlo,'DejaVu Sans Mono',consolas,'Courier New',monospace\">┏━━━━━━━━━━━━━━━━━━━━━━━━━━━━━━━━━┳━━━━━━━━━━━━━━━━━━━━━━━━━━━┳━━━━━━━━━━━━┓\n",
       "┃<span style=\"font-weight: bold\"> Layer (type)                    </span>┃<span style=\"font-weight: bold\"> Output Shape              </span>┃<span style=\"font-weight: bold\">    Param # </span>┃\n",
       "┡━━━━━━━━━━━━━━━━━━━━━━━━━━━━━━━━━╇━━━━━━━━━━━━━━━━━━━━━━━━━━━╇━━━━━━━━━━━━┩\n",
       "│ conv1d (<span style=\"color: #0087ff; text-decoration-color: #0087ff\">Conv1D</span>)                 │ (<span style=\"color: #00d7ff; text-decoration-color: #00d7ff\">None</span>, <span style=\"color: #00af00; text-decoration-color: #00af00\">13</span>, <span style=\"color: #00af00; text-decoration-color: #00af00\">8</span>)             │        <span style=\"color: #00af00; text-decoration-color: #00af00\">136</span> │\n",
       "├─────────────────────────────────┼───────────────────────────┼────────────┤\n",
       "│ conv1d_1 (<span style=\"color: #0087ff; text-decoration-color: #0087ff\">Conv1D</span>)               │ (<span style=\"color: #00d7ff; text-decoration-color: #00d7ff\">None</span>, <span style=\"color: #00af00; text-decoration-color: #00af00\">12</span>, <span style=\"color: #00af00; text-decoration-color: #00af00\">4</span>)             │         <span style=\"color: #00af00; text-decoration-color: #00af00\">68</span> │\n",
       "├─────────────────────────────────┼───────────────────────────┼────────────┤\n",
       "│ max_pooling1d (<span style=\"color: #0087ff; text-decoration-color: #0087ff\">MaxPooling1D</span>)    │ (<span style=\"color: #00d7ff; text-decoration-color: #00d7ff\">None</span>, <span style=\"color: #00af00; text-decoration-color: #00af00\">6</span>, <span style=\"color: #00af00; text-decoration-color: #00af00\">4</span>)              │          <span style=\"color: #00af00; text-decoration-color: #00af00\">0</span> │\n",
       "├─────────────────────────────────┼───────────────────────────┼────────────┤\n",
       "│ dropout (<span style=\"color: #0087ff; text-decoration-color: #0087ff\">Dropout</span>)               │ (<span style=\"color: #00d7ff; text-decoration-color: #00d7ff\">None</span>, <span style=\"color: #00af00; text-decoration-color: #00af00\">6</span>, <span style=\"color: #00af00; text-decoration-color: #00af00\">4</span>)              │          <span style=\"color: #00af00; text-decoration-color: #00af00\">0</span> │\n",
       "├─────────────────────────────────┼───────────────────────────┼────────────┤\n",
       "│ flatten (<span style=\"color: #0087ff; text-decoration-color: #0087ff\">Flatten</span>)               │ (<span style=\"color: #00d7ff; text-decoration-color: #00d7ff\">None</span>, <span style=\"color: #00af00; text-decoration-color: #00af00\">24</span>)                │          <span style=\"color: #00af00; text-decoration-color: #00af00\">0</span> │\n",
       "├─────────────────────────────────┼───────────────────────────┼────────────┤\n",
       "│ dense (<span style=\"color: #0087ff; text-decoration-color: #0087ff\">Dense</span>)                   │ (<span style=\"color: #00d7ff; text-decoration-color: #00d7ff\">None</span>, <span style=\"color: #00af00; text-decoration-color: #00af00\">100</span>)               │      <span style=\"color: #00af00; text-decoration-color: #00af00\">2,500</span> │\n",
       "├─────────────────────────────────┼───────────────────────────┼────────────┤\n",
       "│ dense_1 (<span style=\"color: #0087ff; text-decoration-color: #0087ff\">Dense</span>)                 │ (<span style=\"color: #00d7ff; text-decoration-color: #00d7ff\">None</span>, <span style=\"color: #00af00; text-decoration-color: #00af00\">1</span>)                 │        <span style=\"color: #00af00; text-decoration-color: #00af00\">101</span> │\n",
       "└─────────────────────────────────┴───────────────────────────┴────────────┘\n",
       "</pre>\n"
      ],
      "text/plain": [
       "┏━━━━━━━━━━━━━━━━━━━━━━━━━━━━━━━━━┳━━━━━━━━━━━━━━━━━━━━━━━━━━━┳━━━━━━━━━━━━┓\n",
       "┃\u001b[1m \u001b[0m\u001b[1mLayer (type)                   \u001b[0m\u001b[1m \u001b[0m┃\u001b[1m \u001b[0m\u001b[1mOutput Shape             \u001b[0m\u001b[1m \u001b[0m┃\u001b[1m \u001b[0m\u001b[1m   Param #\u001b[0m\u001b[1m \u001b[0m┃\n",
       "┡━━━━━━━━━━━━━━━━━━━━━━━━━━━━━━━━━╇━━━━━━━━━━━━━━━━━━━━━━━━━━━╇━━━━━━━━━━━━┩\n",
       "│ conv1d (\u001b[38;5;33mConv1D\u001b[0m)                 │ (\u001b[38;5;45mNone\u001b[0m, \u001b[38;5;34m13\u001b[0m, \u001b[38;5;34m8\u001b[0m)             │        \u001b[38;5;34m136\u001b[0m │\n",
       "├─────────────────────────────────┼───────────────────────────┼────────────┤\n",
       "│ conv1d_1 (\u001b[38;5;33mConv1D\u001b[0m)               │ (\u001b[38;5;45mNone\u001b[0m, \u001b[38;5;34m12\u001b[0m, \u001b[38;5;34m4\u001b[0m)             │         \u001b[38;5;34m68\u001b[0m │\n",
       "├─────────────────────────────────┼───────────────────────────┼────────────┤\n",
       "│ max_pooling1d (\u001b[38;5;33mMaxPooling1D\u001b[0m)    │ (\u001b[38;5;45mNone\u001b[0m, \u001b[38;5;34m6\u001b[0m, \u001b[38;5;34m4\u001b[0m)              │          \u001b[38;5;34m0\u001b[0m │\n",
       "├─────────────────────────────────┼───────────────────────────┼────────────┤\n",
       "│ dropout (\u001b[38;5;33mDropout\u001b[0m)               │ (\u001b[38;5;45mNone\u001b[0m, \u001b[38;5;34m6\u001b[0m, \u001b[38;5;34m4\u001b[0m)              │          \u001b[38;5;34m0\u001b[0m │\n",
       "├─────────────────────────────────┼───────────────────────────┼────────────┤\n",
       "│ flatten (\u001b[38;5;33mFlatten\u001b[0m)               │ (\u001b[38;5;45mNone\u001b[0m, \u001b[38;5;34m24\u001b[0m)                │          \u001b[38;5;34m0\u001b[0m │\n",
       "├─────────────────────────────────┼───────────────────────────┼────────────┤\n",
       "│ dense (\u001b[38;5;33mDense\u001b[0m)                   │ (\u001b[38;5;45mNone\u001b[0m, \u001b[38;5;34m100\u001b[0m)               │      \u001b[38;5;34m2,500\u001b[0m │\n",
       "├─────────────────────────────────┼───────────────────────────┼────────────┤\n",
       "│ dense_1 (\u001b[38;5;33mDense\u001b[0m)                 │ (\u001b[38;5;45mNone\u001b[0m, \u001b[38;5;34m1\u001b[0m)                 │        \u001b[38;5;34m101\u001b[0m │\n",
       "└─────────────────────────────────┴───────────────────────────┴────────────┘\n"
      ]
     },
     "metadata": {},
     "output_type": "display_data"
    },
    {
     "data": {
      "text/html": [
       "<pre style=\"white-space:pre;overflow-x:auto;line-height:normal;font-family:Menlo,'DejaVu Sans Mono',consolas,'Courier New',monospace\"><span style=\"font-weight: bold\"> Total params: </span><span style=\"color: #00af00; text-decoration-color: #00af00\">2,805</span> (10.96 KB)\n",
       "</pre>\n"
      ],
      "text/plain": [
       "\u001b[1m Total params: \u001b[0m\u001b[38;5;34m2,805\u001b[0m (10.96 KB)\n"
      ]
     },
     "metadata": {},
     "output_type": "display_data"
    },
    {
     "data": {
      "text/html": [
       "<pre style=\"white-space:pre;overflow-x:auto;line-height:normal;font-family:Menlo,'DejaVu Sans Mono',consolas,'Courier New',monospace\"><span style=\"font-weight: bold\"> Trainable params: </span><span style=\"color: #00af00; text-decoration-color: #00af00\">2,805</span> (10.96 KB)\n",
       "</pre>\n"
      ],
      "text/plain": [
       "\u001b[1m Trainable params: \u001b[0m\u001b[38;5;34m2,805\u001b[0m (10.96 KB)\n"
      ]
     },
     "metadata": {},
     "output_type": "display_data"
    },
    {
     "data": {
      "text/html": [
       "<pre style=\"white-space:pre;overflow-x:auto;line-height:normal;font-family:Menlo,'DejaVu Sans Mono',consolas,'Courier New',monospace\"><span style=\"font-weight: bold\"> Non-trainable params: </span><span style=\"color: #00af00; text-decoration-color: #00af00\">0</span> (0.00 B)\n",
       "</pre>\n"
      ],
      "text/plain": [
       "\u001b[1m Non-trainable params: \u001b[0m\u001b[38;5;34m0\u001b[0m (0.00 B)\n"
      ]
     },
     "metadata": {},
     "output_type": "display_data"
    }
   ],
   "source": [
    "model_CNN.summary()"
   ]
  },
  {
   "cell_type": "code",
   "execution_count": 10,
   "metadata": {},
   "outputs": [],
   "source": [
    "# Preparar datos\n",
    "# Aplanar los datos para pasarlos al método\n",
    "def aplanar(x):\n",
    "    aplanado = x.reshape(x.shape[0], -1)\n",
    "    return aplanado\n",
    "\n"
   ]
  },
  {
   "cell_type": "code",
   "execution_count": 11,
   "metadata": {},
   "outputs": [],
   "source": [
    "feature_names_aux = ['Irradiancia', 'Tambiente', 'Tmodulo', 'Potencia', 'Day sin', 'Day cos', 'Year sin', 'Year cos']\n",
    "feature_names = ['Day-{}-Feature-{}'.format(i, feature_names_aux[j]) for i in range(lookback) for j in range(n_features)]"
   ]
  },
  {
   "cell_type": "code",
   "execution_count": 12,
   "metadata": {},
   "outputs": [
    {
     "name": "stdout",
     "output_type": "stream",
     "text": [
      "['Day-0-Feature-Irradiancia', 'Day-0-Feature-Tambiente', 'Day-0-Feature-Tmodulo', 'Day-0-Feature-Potencia', 'Day-0-Feature-Day sin', 'Day-0-Feature-Day cos', 'Day-0-Feature-Year sin', 'Day-0-Feature-Year cos', 'Day-1-Feature-Irradiancia', 'Day-1-Feature-Tambiente', 'Day-1-Feature-Tmodulo', 'Day-1-Feature-Potencia', 'Day-1-Feature-Day sin', 'Day-1-Feature-Day cos', 'Day-1-Feature-Year sin', 'Day-1-Feature-Year cos', 'Day-2-Feature-Irradiancia', 'Day-2-Feature-Tambiente', 'Day-2-Feature-Tmodulo', 'Day-2-Feature-Potencia', 'Day-2-Feature-Day sin', 'Day-2-Feature-Day cos', 'Day-2-Feature-Year sin', 'Day-2-Feature-Year cos', 'Day-3-Feature-Irradiancia', 'Day-3-Feature-Tambiente', 'Day-3-Feature-Tmodulo', 'Day-3-Feature-Potencia', 'Day-3-Feature-Day sin', 'Day-3-Feature-Day cos', 'Day-3-Feature-Year sin', 'Day-3-Feature-Year cos', 'Day-4-Feature-Irradiancia', 'Day-4-Feature-Tambiente', 'Day-4-Feature-Tmodulo', 'Day-4-Feature-Potencia', 'Day-4-Feature-Day sin', 'Day-4-Feature-Day cos', 'Day-4-Feature-Year sin', 'Day-4-Feature-Year cos', 'Day-5-Feature-Irradiancia', 'Day-5-Feature-Tambiente', 'Day-5-Feature-Tmodulo', 'Day-5-Feature-Potencia', 'Day-5-Feature-Day sin', 'Day-5-Feature-Day cos', 'Day-5-Feature-Year sin', 'Day-5-Feature-Year cos', 'Day-6-Feature-Irradiancia', 'Day-6-Feature-Tambiente', 'Day-6-Feature-Tmodulo', 'Day-6-Feature-Potencia', 'Day-6-Feature-Day sin', 'Day-6-Feature-Day cos', 'Day-6-Feature-Year sin', 'Day-6-Feature-Year cos', 'Day-7-Feature-Irradiancia', 'Day-7-Feature-Tambiente', 'Day-7-Feature-Tmodulo', 'Day-7-Feature-Potencia', 'Day-7-Feature-Day sin', 'Day-7-Feature-Day cos', 'Day-7-Feature-Year sin', 'Day-7-Feature-Year cos', 'Day-8-Feature-Irradiancia', 'Day-8-Feature-Tambiente', 'Day-8-Feature-Tmodulo', 'Day-8-Feature-Potencia', 'Day-8-Feature-Day sin', 'Day-8-Feature-Day cos', 'Day-8-Feature-Year sin', 'Day-8-Feature-Year cos', 'Day-9-Feature-Irradiancia', 'Day-9-Feature-Tambiente', 'Day-9-Feature-Tmodulo', 'Day-9-Feature-Potencia', 'Day-9-Feature-Day sin', 'Day-9-Feature-Day cos', 'Day-9-Feature-Year sin', 'Day-9-Feature-Year cos', 'Day-10-Feature-Irradiancia', 'Day-10-Feature-Tambiente', 'Day-10-Feature-Tmodulo', 'Day-10-Feature-Potencia', 'Day-10-Feature-Day sin', 'Day-10-Feature-Day cos', 'Day-10-Feature-Year sin', 'Day-10-Feature-Year cos', 'Day-11-Feature-Irradiancia', 'Day-11-Feature-Tambiente', 'Day-11-Feature-Tmodulo', 'Day-11-Feature-Potencia', 'Day-11-Feature-Day sin', 'Day-11-Feature-Day cos', 'Day-11-Feature-Year sin', 'Day-11-Feature-Year cos', 'Day-12-Feature-Irradiancia', 'Day-12-Feature-Tambiente', 'Day-12-Feature-Tmodulo', 'Day-12-Feature-Potencia', 'Day-12-Feature-Day sin', 'Day-12-Feature-Day cos', 'Day-12-Feature-Year sin', 'Day-12-Feature-Year cos', 'Day-13-Feature-Irradiancia', 'Day-13-Feature-Tambiente', 'Day-13-Feature-Tmodulo', 'Day-13-Feature-Potencia', 'Day-13-Feature-Day sin', 'Day-13-Feature-Day cos', 'Day-13-Feature-Year sin', 'Day-13-Feature-Year cos']\n"
     ]
    }
   ],
   "source": [
    "print(feature_names)"
   ]
  },
  {
   "cell_type": "code",
   "execution_count": 13,
   "metadata": {},
   "outputs": [
    {
     "data": {
      "text/plain": [
       "(9571, 112)"
      ]
     },
     "execution_count": 13,
     "metadata": {},
     "output_type": "execute_result"
    }
   ],
   "source": [
    "X_train_2d=aplanar(X_train)\n",
    "X_train_2d.shape\n"
   ]
  },
  {
   "cell_type": "code",
   "execution_count": 15,
   "metadata": {},
   "outputs": [],
   "source": [
    "# Crea un objeto Lime para explicar las predicciones\n",
    "explainer = lime_tridimensional.LimeTabularExplainer(X_train_2d,\n",
    "                                            feature_names=feature_names,\n",
    "                                            class_names=['output'],\n",
    "                                            discretize_continuous=False, mode=\"regression\")"
   ]
  },
  {
   "cell_type": "code",
   "execution_count": 16,
   "metadata": {},
   "outputs": [
    {
     "data": {
      "text/plain": [
       "(170, 112)"
      ]
     },
     "execution_count": 16,
     "metadata": {},
     "output_type": "execute_result"
    }
   ],
   "source": [
    "X_test_2d = aplanar(X_test)\n",
    "X_test_2d.shape\n"
   ]
  },
  {
   "cell_type": "code",
   "execution_count": 33,
   "metadata": {},
   "outputs": [
    {
     "name": "stdout",
     "output_type": "stream",
     "text": [
      "\u001b[1m157/157\u001b[0m \u001b[32m━━━━━━━━━━━━━━━━━━━━\u001b[0m\u001b[37m\u001b[0m \u001b[1m0s\u001b[0m 1ms/step\n"
     ]
    }
   ],
   "source": [
    "# Explica la predicción de tu modelo para la instancia seleccionada\n",
    "explanation = explainer.explain_instance(X_test_2d[3], model_CNN.predict, num_features=len(feature_names)).as_list()"
   ]
  },
  {
   "cell_type": "markdown",
   "metadata": {},
   "source": [
    " "
   ]
  },
  {
   "cell_type": "code",
   "execution_count": 34,
   "metadata": {},
   "outputs": [
    {
     "name": "stdout",
     "output_type": "stream",
     "text": [
      "\u001b[32mDay-6-Feature-Irradiancia\u001b[0m: 0.008567599474536327\n",
      "\u001b[32mDay-5-Feature-Irradiancia\u001b[0m: 0.0075825237313442\n",
      "\u001b[32mDay-9-Feature-Irradiancia\u001b[0m: 0.006394705599575805\n",
      "\u001b[32mDay-10-Feature-Irradiancia\u001b[0m: 0.006311235921622462\n",
      "\u001b[32mDay-2-Feature-Irradiancia\u001b[0m: 0.005278470403161022\n",
      "\u001b[32mDay-7-Feature-Irradiancia\u001b[0m: 0.004270142928693221\n",
      "\u001b[32mDay-3-Feature-Irradiancia\u001b[0m: 0.0035924727446529233\n",
      "\u001b[32mDay-4-Feature-Irradiancia\u001b[0m: 0.003524204656185193\n",
      "\u001b[32mDay-13-Feature-Irradiancia\u001b[0m: 0.002956099661159932\n",
      "\u001b[32mDay-1-Feature-Irradiancia\u001b[0m: 0.0026891446265475704\n",
      "\u001b[32mDay-11-Feature-Irradiancia\u001b[0m: 0.00239050662922868\n",
      "\u001b[32mDay-0-Feature-Irradiancia\u001b[0m: 0.0007940570426381116\n",
      "\u001b[31mDay-2-Feature-Day sin\u001b[0m: -0.0006626958452370488\n",
      "\u001b[31mDay-8-Feature-Year cos\u001b[0m: -0.0006398611966397559\n",
      "\u001b[31mDay-4-Feature-Year cos\u001b[0m: -0.0004992144308268278\n",
      "\u001b[32mDay-9-Feature-Day cos\u001b[0m: 0.0004724399393506048\n",
      "\u001b[31mDay-11-Feature-Year cos\u001b[0m: -0.00046855041350706304\n",
      "\u001b[32mDay-1-Feature-Day sin\u001b[0m: 0.0004421647106108154\n",
      "\u001b[32mDay-3-Feature-Potencia\u001b[0m: 0.0004232201362076752\n",
      "\u001b[31mDay-3-Feature-Year cos\u001b[0m: -0.0004190547827680637\n",
      "\u001b[31mDay-4-Feature-Potencia\u001b[0m: -0.0004089788261813791\n",
      "\u001b[31mDay-6-Feature-Day sin\u001b[0m: -0.0004087244105119608\n",
      "\u001b[31mDay-13-Feature-Day sin\u001b[0m: -0.0004069002884763203\n",
      "\u001b[31mDay-1-Feature-Tmodulo\u001b[0m: -0.00040121885662777426\n",
      "\u001b[32mDay-7-Feature-Year cos\u001b[0m: 0.0003785747703531548\n",
      "\u001b[31mDay-6-Feature-Year cos\u001b[0m: -0.0003730860982527274\n",
      "\u001b[32mDay-3-Feature-Day cos\u001b[0m: 0.0003525798410229374\n",
      "\u001b[31mDay-2-Feature-Year cos\u001b[0m: -0.00033159990596380736\n",
      "\u001b[31mDay-0-Feature-Year cos\u001b[0m: -0.00028237156873699637\n",
      "\u001b[32mDay-10-Feature-Potencia\u001b[0m: 0.0002678946247015743\n"
     ]
    }
   ],
   "source": [
    "\n",
    "# Muestra las características más importantes que contribuyeron a la predicción\n",
    "colored_explanation =[(colored(feature_names,'green'),weight)if weight>0 else (colored(feature_names,'red'),weight)\n",
    "for feature_names ,weight in explanation]\n",
    "\n",
    "for feature_names, weight in colored_explanation:\n",
    "    print(f\"{feature_names}: {weight}\")\n"
   ]
  }
 ],
 "metadata": {
  "kernelspec": {
   "display_name": "aix360",
   "language": "python",
   "name": "python3"
  },
  "language_info": {
   "codemirror_mode": {
    "name": "ipython",
    "version": 3
   },
   "file_extension": ".py",
   "mimetype": "text/x-python",
   "name": "python",
   "nbconvert_exporter": "python",
   "pygments_lexer": "ipython3",
   "version": "3.11.5"
  },
  "orig_nbformat": 4
 },
 "nbformat": 4,
 "nbformat_minor": 2
}
